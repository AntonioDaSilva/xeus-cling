{
 "cells": [
  {
   "cell_type": "code",
   "execution_count": 1,
   "id": "bfc34443",
   "metadata": {},
   "outputs": [
    {
     "name": "stdout",
     "output_type": "stream",
     "text": [
      "   1.1778   1.7102   1.8159   1.3357\n",
      "   1.2218   1.4418   1.5855   1.2031\n",
      "   0.8287   1.8111   1.7347   0.9667\n",
      "   0.9209   1.9521   2.3324   1.4120\n",
      "\n"
     ]
    }
   ],
   "source": [
    "#pragma cling add_library_path(\"armadillo-10.7.5\")\n",
    "#pragma cling add_include_path(\"armadillo-10.7.5/include/\")\n",
    "//#pragma cling add_library_path(\"igraph-0.9.6/build/src/\")\n",
    "//#pragma cling add_include_path(\"igraph-0.9.6/include/\")\n",
    "#pragma cling load(\"armadillo\")\n",
    "//#pragma cling load(\"igraph-0.9.6/build/src/libigraph.a\")\n",
    "\n",
    "//#include \"igraph-0.9.6/include/igraph.h\"\n",
    "#include <armadillo>\n",
    "\n",
    "\n",
    "using namespace std;\n",
    "using namespace arma;\n",
    "\n",
    "mat A(4, 5, fill::randu);\n",
    "mat B(4, 5, fill::randu);\n",
    "  \n",
    "cout << A*B.t() << endl;"
   ]
  },
  {
   "cell_type": "code",
   "execution_count": 4,
   "id": "05f59773",
   "metadata": {},
   "outputs": [
    {
     "name": "stdout",
     "output_type": "stream",
     "text": [
      "Diameter of a random graph with average degree 6: 8\n"
     ]
    }
   ],
   "source": [
    "#pragma cling add_library_path(\"/home/mert/anaconda3/envs/cling/lib\")\n",
    "#pragma cling add_include_path(\"/home/mert/anaconda3/envs/cling/include/igraph\")\n",
    "#pragma cling load(\"libigraph.so\")\n",
    "\n",
    "#include <igraph.h>\n",
    "\n",
    "igraph_real_t diameter;\n",
    "igraph_t graph;\n",
    "\n",
    "igraph_rng_seed(igraph_rng_default(), 42);\n",
    "\n",
    "igraph_erdos_renyi_game(&graph, IGRAPH_ERDOS_RENYI_GNM, 1000, 3000,\n",
    "                      IGRAPH_UNDIRECTED, IGRAPH_NO_LOOPS);\n",
    "\n",
    "igraph_diameter(&graph, &diameter, 0, 0, 0, IGRAPH_UNDIRECTED, 1);\n",
    "printf(\"Diameter of a random graph with average degree %g: %g\\n\",\n",
    "      2.0 * igraph_ecount(&graph) / igraph_vcount(&graph),\n",
    "      (double) diameter);\n",
    "\n",
    "igraph_destroy(&graph);"
   ]
  }
 ],
 "metadata": {
  "kernelspec": {
   "display_name": "C++14",
   "language": "C++14",
   "name": "xcpp14"
  },
  "language_info": {
   "codemirror_mode": "text/x-c++src",
   "file_extension": ".cpp",
   "mimetype": "text/x-c++src",
   "name": "c++",
   "version": "14"
  }
 },
 "nbformat": 4,
 "nbformat_minor": 5
}
