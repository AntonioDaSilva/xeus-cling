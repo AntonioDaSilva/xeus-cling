{
 "cells": [
  {
   "cell_type": "code",
   "execution_count": 1,
   "id": "bfc34443",
   "metadata": {},
   "outputs": [
    {
     "name": "stdout",
     "output_type": "stream",
     "text": [
      "   0.3391   2.0645   1.4333   1.7923\n",
      "   0.3542   2.0831   1.5397   1.5770\n",
      "   0.3258   1.9435   1.0720   1.0698\n",
      "   0.3219   1.5760   1.0185   1.7169\n",
      "\n"
     ]
    }
   ],
   "source": [
    "#pragma cling add_library_path(\"armadillo-10.7.5\")\n",
    "#pragma cling add_include_path(\"armadillo-10.7.5/include/\")\n",
    "#pragma cling load(\"armadillo\")\n",
    "\n",
    "#include <armadillo>\n",
    "\n",
    "using namespace std;\n",
    "using namespace arma;\n",
    "\n",
    "mat A(4, 5, fill::randu);\n",
    "mat B(4, 5, fill::randu);\n",
    "  \n",
    "cout << A*B.t() << endl;"
   ]
  }
 ],
 "metadata": {
  "kernelspec": {
   "display_name": "C++14",
   "language": "C++14",
   "name": "xcpp14"
  },
  "language_info": {
   "codemirror_mode": "text/x-c++src",
   "file_extension": ".cpp",
   "mimetype": "text/x-c++src",
   "name": "c++",
   "version": "14"
  }
 },
 "nbformat": 4,
 "nbformat_minor": 5
}
