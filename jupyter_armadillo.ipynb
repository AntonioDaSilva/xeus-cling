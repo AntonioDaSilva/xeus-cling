{
 "cells": [
  {
   "cell_type": "code",
   "execution_count": 1,
   "id": "bfc34443",
   "metadata": {},
   "outputs": [
    {
     "name": "stdout",
     "output_type": "stream",
     "text": [
      "   0.7716   1.0800   0.9424   0.7300\n",
      "   1.5734   1.4309   1.8063   1.4822\n",
      "   1.8567   1.1630   1.9277   1.2591\n",
      "   1.2939   1.1018   1.6144   0.7581\n",
      "\n"
     ]
    }
   ],
   "source": [
    "#pragma cling add_library_path(\"armadillo-10.7.5\")\n",
    "#pragma cling add_include_path(\"armadillo-10.7.5/include/\")\n",
    "#pragma cling load(\"armadillo\")\n",
    "#include <armadillo>\n",
    "\n",
    "\n",
    "using namespace std;\n",
    "using namespace arma;\n",
    "\n",
    "mat A(4, 5, fill::randu);\n",
    "mat B(4, 5, fill::randu);\n",
    "  \n",
    "cout << A*B.t() << endl;"
   ]
  },
  {
   "cell_type": "code",
   "execution_count": 2,
   "id": "05f59773",
   "metadata": {},
   "outputs": [
    {
     "name": "stdout",
     "output_type": "stream",
     "text": [
      "Diameter of a random graph with average degree 6: 8\n"
     ]
    }
   ],
   "source": [
    "#pragma cling add_library_path(\"igraph/lib\")\n",
    "#pragma cling add_include_path(\"igraph/include/igraph\")\n",
    "#pragma cling load(\"igraph\")\n",
    "\n",
    "#include <igraph.h>\n",
    "\n",
    "igraph_real_t diameter;\n",
    "igraph_t graph;\n",
    "\n",
    "igraph_rng_seed(igraph_rng_default(), 42);\n",
    "\n",
    "igraph_erdos_renyi_game(&graph, IGRAPH_ERDOS_RENYI_GNM, 1000, 3000,\n",
    "                      IGRAPH_UNDIRECTED, IGRAPH_NO_LOOPS);\n",
    "\n",
    "igraph_diameter(&graph, &diameter, 0, 0, 0, IGRAPH_UNDIRECTED, 1);\n",
    "printf(\"Diameter of a random graph with average degree %g: %g\\n\",\n",
    "      2.0 * igraph_ecount(&graph) / igraph_vcount(&graph),\n",
    "      (double) diameter);\n",
    "\n",
    "igraph_destroy(&graph);"
   ]
  }
 ],
 "metadata": {
  "kernelspec": {
   "display_name": "C++14",
   "language": "C++14",
   "name": "xcpp14"
  },
  "language_info": {
   "codemirror_mode": "text/x-c++src",
   "file_extension": ".cpp",
   "mimetype": "text/x-c++src",
   "name": "c++",
   "version": "14"
  }
 },
 "nbformat": 4,
 "nbformat_minor": 5
}
