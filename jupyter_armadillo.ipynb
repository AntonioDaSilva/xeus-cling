{
 "cells": [
  {
   "cell_type": "code",
   "execution_count": null,
   "id": "2cb094a3",
   "metadata": {},
   "outputs": [],
   "source": [
    "/*\n",
    "// previous version of include\n",
    "#pragma cling add_library_path(\"armadillo-10.7.5\")\n",
    "#pragma cling add_include_path(\"armadillo-10.7.5/include/\")\n",
    "#pragma cling load(\"libarmadillo.so\")\n",
    "\n",
    "#include <iostream>\n",
    "#include \"armadillo-10.7.5/include/armadillo\"\n",
    "\n",
    "using namespace std;\n",
    "using namespace arma;\n",
    "\n",
    "mat A(4, 5, fill::randu);\n",
    "mat B(4, 5, fill::randu);\n",
    "  \n",
    "cout << A*B.t() << endl; */"
   ]
  },
  {
   "cell_type": "code",
   "execution_count": 1,
   "id": "10ae14b9",
   "metadata": {},
   "outputs": [
    {
     "name": "stdout",
     "output_type": "stream",
     "text": [
      "   1.2339   0.4395   0.5359   1.1460\n",
      "   1.8282   0.9213   0.7277   1.5499\n",
      "   1.7720   1.1104   0.7634   1.6713\n",
      "   1.3655   0.4887   0.6875   1.2457\n",
      "\n"
     ]
    }
   ],
   "source": [
    "#pragma cling add_library_path(\"armadillo-10.7.5\")\n",
    "#pragma cling add_include_path(\"armadillo-10.7.5/include/\")\n",
    "#pragma cling load(\"libarmadillo.so\")\n",
    "\n",
    "#include <armadillo>\n",
    "\n",
    "using namespace std;\n",
    "using namespace arma;\n",
    "\n",
    "mat A(4, 5, fill::randu);\n",
    "mat B(4, 5, fill::randu);\n",
    "  \n",
    "cout << A*B.t() << endl;"
   ]
  }
 ],
 "metadata": {
  "kernelspec": {
   "display_name": "C++14",
   "language": "C++14",
   "name": "xcpp14"
  },
  "language_info": {
   "codemirror_mode": "text/x-c++src",
   "file_extension": ".cpp",
   "mimetype": "text/x-c++src",
   "name": "c++",
   "version": "14"
  }
 },
 "nbformat": 4,
 "nbformat_minor": 5
}
