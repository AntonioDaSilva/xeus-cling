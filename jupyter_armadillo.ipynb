{
 "cells": [
  {
   "cell_type": "code",
   "execution_count": 5,
   "id": "bfc34443",
   "metadata": {},
   "outputs": [
    {
     "name": "stdout",
     "output_type": "stream",
     "text": [
      "   2.3986   1.3531   2.2682   1.0524\n",
      "   1.5627   1.3744   1.6324   0.8877\n",
      "   1.4049   1.1187   1.1894   0.6473\n",
      "   1.4306   1.0314   1.3172   0.6965\n",
      "\n"
     ]
    }
   ],
   "source": [
    "#pragma cling add_library_path(\"armadillo-10.7.5\")\n",
    "#pragma cling add_include_path(\"armadillo-10.7.5/include/\")\n",
    "#pragma cling load(\"armadillo\")\n",
    "#include <armadillo>\n",
    "\n",
    "\n",
    "using namespace std;\n",
    "using namespace arma;\n",
    "\n",
    "mat A(4, 5, fill::randu);\n",
    "mat B(4, 5, fill::randu);\n",
    "  \n",
    "cout << A*B.t() << endl;"
   ]
  },
  {
   "cell_type": "code",
   "execution_count": 2,
   "id": "05f59773",
   "metadata": {},
   "outputs": [
    {
     "name": "stdout",
     "output_type": "stream",
     "text": [
      "Diameter of a random graph with average degree 6: 8\n"
     ]
    }
   ],
   "source": [
    "#pragma cling add_library_path(\"igraph/lib\")\n",
    "#pragma cling add_include_path(\"igraph/include/igraph\")\n",
    "#pragma cling load(\"igraph\")\n",
    "\n",
    "#include <igraph.h>\n",
    "\n",
    "igraph_real_t diameter;\n",
    "igraph_t graph;\n",
    "\n",
    "igraph_rng_seed(igraph_rng_default(), 42);\n",
    "\n",
    "igraph_erdos_renyi_game(&graph, IGRAPH_ERDOS_RENYI_GNM, 1000, 3000,\n",
    "                      IGRAPH_UNDIRECTED, IGRAPH_NO_LOOPS);\n",
    "\n",
    "igraph_diameter(&graph, &diameter, 0, 0, 0, IGRAPH_UNDIRECTED, 1);\n",
    "printf(\"Diameter of a random graph with average degree %g: %g\\n\",\n",
    "      2.0 * igraph_ecount(&graph) / igraph_vcount(&graph),\n",
    "      (double) diameter);\n",
    "\n",
    "igraph_destroy(&graph);"
   ]
  },
  {
   "cell_type": "code",
   "execution_count": 4,
   "id": "ede54e59",
   "metadata": {},
   "outputs": [
    {
     "name": "stdout",
     "output_type": "stream",
     "text": [
      "\tlinux-vdso.so.1 (0x00007ffeacdc4000)\n",
      "\tlibblas.so.3 => /lib/x86_64-linux-gnu/libblas.so.3 (0x00007ff78a3ed000)\n",
      "\tliblapack.so.3 => /lib/x86_64-linux-gnu/liblapack.so.3 (0x00007ff789d49000)\n",
      "\tlibarpack.so.2 => /lib/x86_64-linux-gnu/libarpack.so.2 (0x00007ff789d01000)\n",
      "\tlibsuperlu.so.5 => /lib/x86_64-linux-gnu/libsuperlu.so.5 (0x00007ff789c91000)\n",
      "\tlibstdc++.so.6 => /lib/x86_64-linux-gnu/libstdc++.so.6 (0x00007ff789aaf000)\n",
      "\tlibm.so.6 => /lib/x86_64-linux-gnu/libm.so.6 (0x00007ff789960000)\n",
      "\tlibgcc_s.so.1 => /lib/x86_64-linux-gnu/libgcc_s.so.1 (0x00007ff789943000)\n",
      "\tlibc.so.6 => /lib/x86_64-linux-gnu/libc.so.6 (0x00007ff789751000)\n",
      "\t/lib64/ld-linux-x86-64.so.2 (0x00007ff78a485000)\n",
      "\tlibgfortran.so.5 => /lib/x86_64-linux-gnu/libgfortran.so.5 (0x00007ff789489000)\n",
      "\tlibquadmath.so.0 => /lib/x86_64-linux-gnu/libquadmath.so.0 (0x00007ff78943f000)\n"
     ]
    }
   ],
   "source": [
    "!ldd 'armadillo-10.7.5/libarmadillo.so'"
   ]
  }
 ],
 "metadata": {
  "kernelspec": {
   "display_name": "C++14",
   "language": "C++14",
   "name": "xcpp14"
  },
  "language_info": {
   "codemirror_mode": "text/x-c++src",
   "file_extension": ".cpp",
   "mimetype": "text/x-c++src",
   "name": "c++",
   "version": "14"
  }
 },
 "nbformat": 4,
 "nbformat_minor": 5
}
